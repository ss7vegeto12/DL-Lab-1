{
 "cells": [
  {
   "cell_type": "code",
   "execution_count": 1,
   "id": "42dfaf5b",
   "metadata": {
    "_cell_guid": "b1076dfc-b9ad-4769-8c92-a6c4dae69d19",
    "_uuid": "8f2839f25d086af736a60e9eeb907d3b93b6e0e5",
    "execution": {
     "iopub.execute_input": "2024-03-17T10:00:36.979064Z",
     "iopub.status.busy": "2024-03-17T10:00:36.978566Z",
     "iopub.status.idle": "2024-03-17T10:02:13.376775Z",
     "shell.execute_reply": "2024-03-17T10:02:13.375353Z"
    },
    "papermill": {
     "duration": 96.406984,
     "end_time": "2024-03-17T10:02:13.379929",
     "exception": false,
     "start_time": "2024-03-17T10:00:36.972945",
     "status": "completed"
    },
    "tags": []
   },
   "outputs": [
    {
     "name": "stdout",
     "output_type": "stream",
     "text": [
      "Requirement already satisfied: tensorflow in /opt/conda/lib/python3.10/site-packages (2.15.0)\r\n",
      "Collecting tensorflow\r\n",
      "  Downloading tensorflow-2.16.1-cp310-cp310-manylinux_2_17_x86_64.manylinux2014_x86_64.whl.metadata (4.3 kB)\r\n",
      "Requirement already satisfied: absl-py>=1.0.0 in /opt/conda/lib/python3.10/site-packages (from tensorflow) (1.4.0)\r\n",
      "Requirement already satisfied: astunparse>=1.6.0 in /opt/conda/lib/python3.10/site-packages (from tensorflow) (1.6.3)\r\n",
      "Requirement already satisfied: flatbuffers>=23.5.26 in /opt/conda/lib/python3.10/site-packages (from tensorflow) (23.5.26)\r\n",
      "Requirement already satisfied: gast!=0.5.0,!=0.5.1,!=0.5.2,>=0.2.1 in /opt/conda/lib/python3.10/site-packages (from tensorflow) (0.5.4)\r\n",
      "Requirement already satisfied: google-pasta>=0.1.1 in /opt/conda/lib/python3.10/site-packages (from tensorflow) (0.2.0)\r\n",
      "Requirement already satisfied: h5py>=3.10.0 in /opt/conda/lib/python3.10/site-packages (from tensorflow) (3.10.0)\r\n",
      "Requirement already satisfied: libclang>=13.0.0 in /opt/conda/lib/python3.10/site-packages (from tensorflow) (16.0.6)\r\n",
      "Collecting ml-dtypes~=0.3.1 (from tensorflow)\r\n",
      "  Downloading ml_dtypes-0.3.2-cp310-cp310-manylinux_2_17_x86_64.manylinux2014_x86_64.whl.metadata (20 kB)\r\n",
      "Requirement already satisfied: opt-einsum>=2.3.2 in /opt/conda/lib/python3.10/site-packages (from tensorflow) (3.3.0)\r\n",
      "Requirement already satisfied: packaging in /opt/conda/lib/python3.10/site-packages (from tensorflow) (21.3)\r\n",
      "Requirement already satisfied: protobuf!=4.21.0,!=4.21.1,!=4.21.2,!=4.21.3,!=4.21.4,!=4.21.5,<5.0.0dev,>=3.20.3 in /opt/conda/lib/python3.10/site-packages (from tensorflow) (3.20.3)\r\n",
      "Requirement already satisfied: requests<3,>=2.21.0 in /opt/conda/lib/python3.10/site-packages (from tensorflow) (2.31.0)\r\n",
      "Requirement already satisfied: setuptools in /opt/conda/lib/python3.10/site-packages (from tensorflow) (69.0.3)\r\n",
      "Requirement already satisfied: six>=1.12.0 in /opt/conda/lib/python3.10/site-packages (from tensorflow) (1.16.0)\r\n",
      "Requirement already satisfied: termcolor>=1.1.0 in /opt/conda/lib/python3.10/site-packages (from tensorflow) (2.4.0)\r\n",
      "Requirement already satisfied: typing-extensions>=3.6.6 in /opt/conda/lib/python3.10/site-packages (from tensorflow) (4.9.0)\r\n",
      "Requirement already satisfied: wrapt>=1.11.0 in /opt/conda/lib/python3.10/site-packages (from tensorflow) (1.14.1)\r\n",
      "Requirement already satisfied: grpcio<2.0,>=1.24.3 in /opt/conda/lib/python3.10/site-packages (from tensorflow) (1.60.0)\r\n",
      "Collecting tensorboard<2.17,>=2.16 (from tensorflow)\r\n",
      "  Downloading tensorboard-2.16.2-py3-none-any.whl.metadata (1.6 kB)\r\n",
      "Requirement already satisfied: keras>=3.0.0 in /opt/conda/lib/python3.10/site-packages (from tensorflow) (3.0.5)\r\n",
      "Requirement already satisfied: tensorflow-io-gcs-filesystem>=0.23.1 in /opt/conda/lib/python3.10/site-packages (from tensorflow) (0.35.0)\r\n",
      "Requirement already satisfied: numpy<2.0.0,>=1.23.5 in /opt/conda/lib/python3.10/site-packages (from tensorflow) (1.26.4)\r\n",
      "Requirement already satisfied: wheel<1.0,>=0.23.0 in /opt/conda/lib/python3.10/site-packages (from astunparse>=1.6.0->tensorflow) (0.42.0)\r\n",
      "Requirement already satisfied: rich in /opt/conda/lib/python3.10/site-packages (from keras>=3.0.0->tensorflow) (13.7.0)\r\n",
      "Requirement already satisfied: namex in /opt/conda/lib/python3.10/site-packages (from keras>=3.0.0->tensorflow) (0.0.7)\r\n",
      "Requirement already satisfied: dm-tree in /opt/conda/lib/python3.10/site-packages (from keras>=3.0.0->tensorflow) (0.1.8)\r\n",
      "Requirement already satisfied: charset-normalizer<4,>=2 in /opt/conda/lib/python3.10/site-packages (from requests<3,>=2.21.0->tensorflow) (3.3.2)\r\n",
      "Requirement already satisfied: idna<4,>=2.5 in /opt/conda/lib/python3.10/site-packages (from requests<3,>=2.21.0->tensorflow) (3.6)\r\n",
      "Requirement already satisfied: urllib3<3,>=1.21.1 in /opt/conda/lib/python3.10/site-packages (from requests<3,>=2.21.0->tensorflow) (1.26.18)\r\n",
      "Requirement already satisfied: certifi>=2017.4.17 in /opt/conda/lib/python3.10/site-packages (from requests<3,>=2.21.0->tensorflow) (2024.2.2)\r\n",
      "Requirement already satisfied: markdown>=2.6.8 in /opt/conda/lib/python3.10/site-packages (from tensorboard<2.17,>=2.16->tensorflow) (3.5.2)\r\n",
      "Requirement already satisfied: tensorboard-data-server<0.8.0,>=0.7.0 in /opt/conda/lib/python3.10/site-packages (from tensorboard<2.17,>=2.16->tensorflow) (0.7.2)\r\n",
      "Requirement already satisfied: werkzeug>=1.0.1 in /opt/conda/lib/python3.10/site-packages (from tensorboard<2.17,>=2.16->tensorflow) (3.0.1)\r\n",
      "Requirement already satisfied: pyparsing!=3.0.5,>=2.0.2 in /opt/conda/lib/python3.10/site-packages (from packaging->tensorflow) (3.1.1)\r\n",
      "Requirement already satisfied: MarkupSafe>=2.1.1 in /opt/conda/lib/python3.10/site-packages (from werkzeug>=1.0.1->tensorboard<2.17,>=2.16->tensorflow) (2.1.3)\r\n",
      "Requirement already satisfied: markdown-it-py>=2.2.0 in /opt/conda/lib/python3.10/site-packages (from rich->keras>=3.0.0->tensorflow) (3.0.0)\r\n",
      "Requirement already satisfied: pygments<3.0.0,>=2.13.0 in /opt/conda/lib/python3.10/site-packages (from rich->keras>=3.0.0->tensorflow) (2.17.2)\r\n",
      "Requirement already satisfied: mdurl~=0.1 in /opt/conda/lib/python3.10/site-packages (from markdown-it-py>=2.2.0->rich->keras>=3.0.0->tensorflow) (0.1.2)\r\n",
      "Downloading tensorflow-2.16.1-cp310-cp310-manylinux_2_17_x86_64.manylinux2014_x86_64.whl (589.8 MB)\r\n",
      "\u001b[2K   \u001b[90m━━━━━━━━━━━━━━━━━━━━━━━━━━━━━━━━━━━━━━━━\u001b[0m \u001b[32m589.8/589.8 MB\u001b[0m \u001b[31m1.2 MB/s\u001b[0m eta \u001b[36m0:00:00\u001b[0m\r\n",
      "\u001b[?25hDownloading ml_dtypes-0.3.2-cp310-cp310-manylinux_2_17_x86_64.manylinux2014_x86_64.whl (2.2 MB)\r\n",
      "\u001b[2K   \u001b[90m━━━━━━━━━━━━━━━━━━━━━━━━━━━━━━━━━━━━━━━━\u001b[0m \u001b[32m2.2/2.2 MB\u001b[0m \u001b[31m2.3 MB/s\u001b[0m eta \u001b[36m0:00:00\u001b[0m\r\n",
      "\u001b[?25hDownloading tensorboard-2.16.2-py3-none-any.whl (5.5 MB)\r\n",
      "\u001b[2K   \u001b[90m━━━━━━━━━━━━━━━━━━━━━━━━━━━━━━━━━━━━━━━━\u001b[0m \u001b[32m5.5/5.5 MB\u001b[0m \u001b[31m6.8 MB/s\u001b[0m eta \u001b[36m0:00:00\u001b[0m\r\n",
      "\u001b[?25hInstalling collected packages: ml-dtypes, tensorboard, tensorflow\r\n",
      "  Attempting uninstall: ml-dtypes\r\n",
      "    Found existing installation: ml-dtypes 0.2.0\r\n",
      "    Uninstalling ml-dtypes-0.2.0:\r\n",
      "      Successfully uninstalled ml-dtypes-0.2.0\r\n",
      "  Attempting uninstall: tensorboard\r\n",
      "    Found existing installation: tensorboard 2.15.1\r\n",
      "    Uninstalling tensorboard-2.15.1:\r\n",
      "      Successfully uninstalled tensorboard-2.15.1\r\n",
      "  Attempting uninstall: tensorflow\r\n",
      "    Found existing installation: tensorflow 2.15.0\r\n",
      "    Uninstalling tensorflow-2.15.0:\r\n",
      "      Successfully uninstalled tensorflow-2.15.0\r\n",
      "\u001b[31mERROR: pip's dependency resolver does not currently take into account all the packages that are installed. This behaviour is the source of the following dependency conflicts.\r\n",
      "tensorflow-decision-forests 1.8.1 requires wurlitzer, which is not installed.\r\n",
      "tensorflow-decision-forests 1.8.1 requires tensorflow~=2.15.0, but you have tensorflow 2.16.1 which is incompatible.\r\n",
      "tensorflow-text 2.15.0 requires tensorflow<2.16,>=2.15.0; platform_machine != \"arm64\" or platform_system != \"Darwin\", but you have tensorflow 2.16.1 which is incompatible.\u001b[0m\u001b[31m\r\n",
      "\u001b[0mSuccessfully installed ml-dtypes-0.3.2 tensorboard-2.16.2 tensorflow-2.16.1\r\n"
     ]
    }
   ],
   "source": [
    "!pip install --upgrade tensorflow"
   ]
  },
  {
   "cell_type": "markdown",
   "id": "4239aa8e",
   "metadata": {
    "papermill": {
     "duration": 0.044301,
     "end_time": "2024-03-17T10:02:13.469035",
     "exception": false,
     "start_time": "2024-03-17T10:02:13.424734",
     "status": "completed"
    },
    "tags": []
   },
   "source": [
    "**TASK 1** Write a Python program that multiplies a TensorFlow tensor by a scalar value and prints the result."
   ]
  },
  {
   "cell_type": "code",
   "execution_count": 2,
   "id": "d7874fdc",
   "metadata": {
    "execution": {
     "iopub.execute_input": "2024-03-17T10:02:13.562458Z",
     "iopub.status.busy": "2024-03-17T10:02:13.561994Z",
     "iopub.status.idle": "2024-03-17T10:02:20.539056Z",
     "shell.execute_reply": "2024-03-17T10:02:20.538068Z"
    },
    "papermill": {
     "duration": 7.028194,
     "end_time": "2024-03-17T10:02:20.541750",
     "exception": false,
     "start_time": "2024-03-17T10:02:13.513556",
     "status": "completed"
    },
    "tags": []
   },
   "outputs": [
    {
     "name": "stdout",
     "output_type": "stream",
     "text": [
      "Original Tensor: [0 6 8]\n",
      "\n",
      "Scalar Value: 2\n",
      "\n",
      "Result after multiplication: [ 0 12 16]\n"
     ]
    }
   ],
   "source": [
    "import tensorflow as tf\n",
    "\n",
    "\n",
    "tensor = tf.constant([0, 6, 8], dtype=tf.int32)\n",
    "scalar = 2\n",
    "result = tensor * scalar\n",
    "\n",
    "# Print the result\n",
    "print(f\"Original Tensor: {tensor}\")\n",
    "print(f\"\\nScalar Value: {scalar}\")\n",
    "print(f\"\\nResult after multiplication: {result}\")"
   ]
  },
  {
   "cell_type": "markdown",
   "id": "cd5dfb61",
   "metadata": {
    "papermill": {
     "duration": 0.043615,
     "end_time": "2024-03-17T10:02:20.629038",
     "exception": false,
     "start_time": "2024-03-17T10:02:20.585423",
     "status": "completed"
    },
    "tags": []
   },
   "source": [
    "**TASK 2** Write a Python program that uses TensorFlow to compute the dot product of two vectors (1-D tensors)."
   ]
  },
  {
   "cell_type": "code",
   "execution_count": 3,
   "id": "aec248c3",
   "metadata": {
    "execution": {
     "iopub.execute_input": "2024-03-17T10:02:20.719739Z",
     "iopub.status.busy": "2024-03-17T10:02:20.718148Z",
     "iopub.status.idle": "2024-03-17T10:02:20.738213Z",
     "shell.execute_reply": "2024-03-17T10:02:20.736618Z"
    },
    "papermill": {
     "duration": 0.067766,
     "end_time": "2024-03-17T10:02:20.740821",
     "exception": false,
     "start_time": "2024-03-17T10:02:20.673055",
     "status": "completed"
    },
    "tags": []
   },
   "outputs": [
    {
     "name": "stdout",
     "output_type": "stream",
     "text": [
      "\n",
      "Result after multiplication: 104\n"
     ]
    }
   ],
   "source": [
    "Vector_1 = tf.constant([0, 6, 8])\n",
    "Vector_2 = tf.constant([0, 8, 7])\n",
    "\n",
    "ResultantVector = tf.tensordot(Vector_1, Vector_2, axes = 1)\n",
    "print(f\"\\nResult after multiplication: {ResultantVector}\")"
   ]
  },
  {
   "cell_type": "markdown",
   "id": "e1bd13ee",
   "metadata": {
    "papermill": {
     "duration": 0.04436,
     "end_time": "2024-03-17T10:02:20.829420",
     "exception": false,
     "start_time": "2024-03-17T10:02:20.785060",
     "status": "completed"
    },
    "tags": []
   },
   "source": [
    "**TASK 3** Write a TensorFlow program that creates two matrices, matrix1 and matrix2, with the following values:\n",
    "\n",
    "matrix1 = [[1, 2],[3, 4]]\n",
    "\n",
    "matrix2 = [[5, 6],[7, 8]]\n",
    "Perform the athematic operations on these matric\n"
   ]
  },
  {
   "cell_type": "code",
   "execution_count": 4,
   "id": "76e6c5ba",
   "metadata": {
    "execution": {
     "iopub.execute_input": "2024-03-17T10:02:20.920489Z",
     "iopub.status.busy": "2024-03-17T10:02:20.920037Z",
     "iopub.status.idle": "2024-03-17T10:02:20.932553Z",
     "shell.execute_reply": "2024-03-17T10:02:20.930622Z"
    },
    "papermill": {
     "duration": 0.06095,
     "end_time": "2024-03-17T10:02:20.935142",
     "exception": false,
     "start_time": "2024-03-17T10:02:20.874192",
     "status": "completed"
    },
    "tags": []
   },
   "outputs": [
    {
     "name": "stdout",
     "output_type": "stream",
     "text": [
      "Result\n",
      "\n",
      "Add [[ 6  8]\n",
      " [10 12]]\n",
      "\n",
      "Subtract [[-4 -4]\n",
      " [-4 -4]]\n",
      "\n",
      "Multiply [[ 5 12]\n",
      " [21 32]]\n",
      "\n"
     ]
    }
   ],
   "source": [
    "Matrix1 = tf.constant([ [1,2], [3, 4] ])\n",
    "Matrix2 = tf.constant([ [5, 6], [7, 8] ])\n",
    "\n",
    "addition = tf.add(Matrix1,Matrix2)\n",
    "subtraction = tf.subtract(Matrix1,Matrix2)\n",
    "multiply = tf.multiply(Matrix1,Matrix2)\n",
    "print(f\"Result\\n\")\n",
    "print(f\"Add {addition}\\n\")\n",
    "print(f\"Subtract {subtraction}\\n\")\n",
    "print(f\"Multiply {multiply}\\n\")\n"
   ]
  }
 ],
 "metadata": {
  "kaggle": {
   "accelerator": "none",
   "dataSources": [],
   "dockerImageVersionId": 30664,
   "isGpuEnabled": false,
   "isInternetEnabled": true,
   "language": "python",
   "sourceType": "notebook"
  },
  "kernelspec": {
   "display_name": "Python 3",
   "language": "python",
   "name": "python3"
  },
  "language_info": {
   "codemirror_mode": {
    "name": "ipython",
    "version": 3
   },
   "file_extension": ".py",
   "mimetype": "text/x-python",
   "name": "python",
   "nbconvert_exporter": "python",
   "pygments_lexer": "ipython3",
   "version": "3.10.13"
  },
  "papermill": {
   "default_parameters": {},
   "duration": 108.718286,
   "end_time": "2024-03-17T10:02:22.404831",
   "environment_variables": {},
   "exception": null,
   "input_path": "__notebook__.ipynb",
   "output_path": "__notebook__.ipynb",
   "parameters": {},
   "start_time": "2024-03-17T10:00:33.686545",
   "version": "2.5.0"
  }
 },
 "nbformat": 4,
 "nbformat_minor": 5
}
